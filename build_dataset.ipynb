{
 "cells": [
  {
   "cell_type": "code",
   "execution_count": 1,
   "metadata": {},
   "outputs": [],
   "source": [
    "\n",
    "dup_list = None\n",
    "nondup_list = None\n",
    "\n",
    "with open(\"duplicates_english.txt\", \"r\") as f:\n",
    "    dup_list = f.read().splitlines()\n",
    "with open(\"nonduplicates_english.txt\", \"r\") as f:\n",
    "    nondup_list = f.read().splitlines()\n"
   ]
  },
  {
   "cell_type": "code",
   "execution_count": 2,
   "metadata": {},
   "outputs": [
    {
     "name": "stderr",
     "output_type": "stream",
     "text": [
      "c:\\Python310\\lib\\site-packages\\tqdm\\auto.py:22: TqdmWarning: IProgress not found. Please update jupyter and ipywidgets. See https://ipywidgets.readthedocs.io/en/stable/user_install.html\n",
      "  from .autonotebook import tqdm as notebook_tqdm\n"
     ]
    }
   ],
   "source": [
    "\n",
    "from preprocess_functions import *\n",
    "\n",
    "questions = get_question_dict_no_answer()\n",
    "# questions()"
   ]
  },
  {
   "cell_type": "code",
   "execution_count": 8,
   "metadata": {},
   "outputs": [],
   "source": [
    "# first do dups\n",
    "dup_title1 = []\n",
    "dup_body1 = []\n",
    "dup_id1 = []\n",
    "dup_title2 = []\n",
    "dup_body2 = []\n",
    "dup_id2 = []\n",
    "\n",
    "for dups in dup_list:\n",
    "    cur_pair = dups.split()\n",
    "    \n",
    "    q1 = int(cur_pair[0])\n",
    "    q2 = int(cur_pair[1])\n",
    "      \n",
    "    if q1 not in questions or q2 not in questions:\n",
    "        # one of the pair doesn't exist, we just continue\n",
    "        continue \n",
    "    \n",
    "    # get the first question\n",
    "    dup_id1.append(q1)\n",
    "    dup_title1.append(questions[q1][\"title\"])    \n",
    "    dup_body1.append(questions[q1][\"body\"]) \n",
    "    dup_id2.append(q2)\n",
    "    dup_title2.append(questions[q2][\"title\"])    \n",
    "    dup_body2.append(questions[q2][\"body\"])    \n",
    "    "
   ]
  },
  {
   "cell_type": "code",
   "execution_count": 9,
   "metadata": {},
   "outputs": [],
   "source": [
    "# then do non-dups\n",
    "non_dup_title1 = []\n",
    "non_dup_body1 = []\n",
    "non_dup_id1 = []\n",
    "non_dup_title2 = []\n",
    "non_dup_body2 = []\n",
    "non_dup_id2 = []\n",
    "\n",
    "# first do dups\n",
    "for nondups in nondup_list:\n",
    "    cur_pair = nondups.split()\n",
    "    q1 = int(cur_pair[0])\n",
    "    q2 = int(cur_pair[1])\n",
    "    if q1 not in questions or q2 not in questions:\n",
    "        # one of the pair doesn't exist, we just continue\n",
    "        continue \n",
    "    non_dup_id1.append(q1)\n",
    "    non_dup_title1.append(questions[q1][\"title\"])    \n",
    "    non_dup_body1.append(questions[q1][\"body\"]) \n",
    "    non_dup_id2.append(q2)\n",
    "    non_dup_title2.append(questions[q2][\"title\"])    \n",
    "    non_dup_body2.append(questions[q2][\"body\"])    "
   ]
  },
  {
   "cell_type": "code",
   "execution_count": 10,
   "metadata": {},
   "outputs": [
    {
     "name": "stdout",
     "output_type": "stream",
     "text": [
      "11854 11854 11854 11854\n",
      "11920 11920 11920 11920\n"
     ]
    }
   ],
   "source": [
    "print(len(dup_body1), len(dup_body2), len(dup_title1), len(dup_title2))\n",
    "print(len(non_dup_body1), len(non_dup_body2), len(non_dup_title1), len(non_dup_title2))\n"
   ]
  },
  {
   "cell_type": "code",
   "execution_count": 11,
   "metadata": {},
   "outputs": [],
   "source": [
    "# cell to write the csv\n",
    "import csv\n",
    "\n",
    "fields = [\"q1_title\", \"q1_body\", \"q1_id\", \"q2_title\", \"q2_body\", \"q2_id\", \"duplicate_label\"]\n",
    "\n",
    "with open(\"dataset.csv\", \"w\", encoding=\"utf-8\") as f:\n",
    "    csvwriter = csv.writer(f)\n",
    "    \n",
    "    csvwriter.writerow(fields)\n",
    "    dup_len = len(dup_title1)\n",
    "    non_dup_len = len(non_dup_title1)\n",
    "    # first do dups\n",
    "    for i in range(dup_len):\n",
    "        cur_entry = [dup_title1[i], dup_body1[i], dup_id1[i], dup_title2[i], dup_body2[i], dup_id2[i], \"1\"]\n",
    "        csvwriter.writerow(cur_entry)\n",
    "    \n",
    "    # then do nondups\n",
    "    for i in range(non_dup_len):\n",
    "        cur_entry = [non_dup_title1[i], non_dup_body1[i], non_dup_id1[i], non_dup_title2[i], non_dup_body2[i], non_dup_id2[i], \"0\"]\n",
    "        csvwriter.writerow(cur_entry)\n",
    "        \n",
    "    \n"
   ]
  },
  {
   "cell_type": "code",
   "execution_count": 12,
   "metadata": {},
   "outputs": [
    {
     "data": {
      "text/html": [
       "<div>\n",
       "<style scoped>\n",
       "    .dataframe tbody tr th:only-of-type {\n",
       "        vertical-align: middle;\n",
       "    }\n",
       "\n",
       "    .dataframe tbody tr th {\n",
       "        vertical-align: top;\n",
       "    }\n",
       "\n",
       "    .dataframe thead th {\n",
       "        text-align: right;\n",
       "    }\n",
       "</style>\n",
       "<table border=\"1\" class=\"dataframe\">\n",
       "  <thead>\n",
       "    <tr style=\"text-align: right;\">\n",
       "      <th></th>\n",
       "      <th>q1_title</th>\n",
       "      <th>q1_body</th>\n",
       "      <th>q1_id</th>\n",
       "      <th>q2_title</th>\n",
       "      <th>q2_body</th>\n",
       "      <th>q2_id</th>\n",
       "      <th>duplicate_label</th>\n",
       "    </tr>\n",
       "  </thead>\n",
       "  <tbody>\n",
       "    <tr>\n",
       "      <th>0</th>\n",
       "      <td>Is it ever acceptable for a period to come aft...</td>\n",
       "      <td>\\r\\nPossible Duplicate:\\r\\nIs it correct to us...</td>\n",
       "      <td>23</td>\n",
       "      <td>Is it correct to use \"punctuation outside of t...</td>\n",
       "      <td>\\r\\nPossible Duplicate:\\r\\nHow should I punctu...</td>\n",
       "      <td>5490</td>\n",
       "      <td>1</td>\n",
       "    </tr>\n",
       "    <tr>\n",
       "      <th>1</th>\n",
       "      <td>When referring to a noun, when does the gender...</td>\n",
       "      <td>In most languages, gender plays a much more im...</td>\n",
       "      <td>118</td>\n",
       "      <td>Pronoun question: referring to inanimate objec...</td>\n",
       "      <td>I read the following claim concerning pronouns...</td>\n",
       "      <td>287721</td>\n",
       "      <td>1</td>\n",
       "    </tr>\n",
       "    <tr>\n",
       "      <th>2</th>\n",
       "      <td>Contemporary written usage of \"whom\" in object...</td>\n",
       "      <td>\\r\\nPossible Duplicate:\\r\\nWhat's the rule for...</td>\n",
       "      <td>331</td>\n",
       "      <td>What’s the rule for using “who” and “whom” cor...</td>\n",
       "      <td>I can never figure out whether I should use wh...</td>\n",
       "      <td>56</td>\n",
       "      <td>1</td>\n",
       "    </tr>\n",
       "    <tr>\n",
       "      <th>3</th>\n",
       "      <td>What can I use to remember the difference betw...</td>\n",
       "      <td>\\r\\nPossible Duplicate:\\r\\nWhat is the differe...</td>\n",
       "      <td>665</td>\n",
       "      <td>What is the difference between \"good\" and \"well\"</td>\n",
       "      <td>Most of the time, I use good and well intercha...</td>\n",
       "      <td>5174</td>\n",
       "      <td>1</td>\n",
       "    </tr>\n",
       "    <tr>\n",
       "      <th>4</th>\n",
       "      <td>What does Maugham mean by \"his spaghetti were\"?</td>\n",
       "      <td>\\r\\nPossible Duplicate:\\r\\nWas the usage \"Spag...</td>\n",
       "      <td>861</td>\n",
       "      <td>Was the usage \"Spaghetti were\" ever acceptable...</td>\n",
       "      <td>In W. Somerset Maugham's The Moon and Sixpence...</td>\n",
       "      <td>170</td>\n",
       "      <td>1</td>\n",
       "    </tr>\n",
       "  </tbody>\n",
       "</table>\n",
       "</div>"
      ],
      "text/plain": [
       "                                            q1_title  \\\n",
       "0  Is it ever acceptable for a period to come aft...   \n",
       "1  When referring to a noun, when does the gender...   \n",
       "2  Contemporary written usage of \"whom\" in object...   \n",
       "3  What can I use to remember the difference betw...   \n",
       "4    What does Maugham mean by \"his spaghetti were\"?   \n",
       "\n",
       "                                             q1_body  q1_id  \\\n",
       "0  \\r\\nPossible Duplicate:\\r\\nIs it correct to us...     23   \n",
       "1  In most languages, gender plays a much more im...    118   \n",
       "2  \\r\\nPossible Duplicate:\\r\\nWhat's the rule for...    331   \n",
       "3  \\r\\nPossible Duplicate:\\r\\nWhat is the differe...    665   \n",
       "4  \\r\\nPossible Duplicate:\\r\\nWas the usage \"Spag...    861   \n",
       "\n",
       "                                            q2_title  \\\n",
       "0  Is it correct to use \"punctuation outside of t...   \n",
       "1  Pronoun question: referring to inanimate objec...   \n",
       "2  What’s the rule for using “who” and “whom” cor...   \n",
       "3   What is the difference between \"good\" and \"well\"   \n",
       "4  Was the usage \"Spaghetti were\" ever acceptable...   \n",
       "\n",
       "                                             q2_body   q2_id  duplicate_label  \n",
       "0  \\r\\nPossible Duplicate:\\r\\nHow should I punctu...    5490                1  \n",
       "1  I read the following claim concerning pronouns...  287721                1  \n",
       "2  I can never figure out whether I should use wh...      56                1  \n",
       "3  Most of the time, I use good and well intercha...    5174                1  \n",
       "4  In W. Somerset Maugham's The Moon and Sixpence...     170                1  "
      ]
     },
     "execution_count": 12,
     "metadata": {},
     "output_type": "execute_result"
    }
   ],
   "source": [
    "# test reading\n",
    "import pandas\n",
    "\n",
    "df = pandas.read_csv(\"dataset.csv\")\n",
    "df.head()\n",
    "# df\n",
    "\n",
    "# \"i love burger\" is a dup \"he loves burger\"\n",
    "#  q1                       q2 "
   ]
  },
  {
   "cell_type": "code",
   "execution_count": null,
   "metadata": {},
   "outputs": [],
   "source": [
    "# Create just a subset \n",
    "\n",
    "with open(\"dataset_subset.csv\", \"w\", encoding=\"utf-8\") as f:\n",
    "    csvwriter = csv.writer(f)\n",
    "    \n",
    "    csvwriter.writerow(fields)\n",
    "    subset_len = 500\n",
    "    # first do dups\n",
    "    for i in range(subset_len):\n",
    "        cur_entry = [dup_title1[i], dup_body1[i], dup_id1[i], dup_title2[i], dup_body2[i], dup_id2[i], \"1\"]\n",
    "        csvwriter.writerow(cur_entry)\n",
    "    \n",
    "    # then do nondups\n",
    "    for i in range(subset_len):\n",
    "        cur_entry = [non_dup_title1[i], non_dup_body1[i], non_dup_id1[i], non_dup_title2[i], non_dup_body2[i], non_dup_id2[i], \"0\"]\n",
    "        csvwriter.writerow(cur_entry)"
   ]
  },
  {
   "cell_type": "code",
   "execution_count": null,
   "metadata": {},
   "outputs": [],
   "source": []
  }
 ],
 "metadata": {
  "kernelspec": {
   "display_name": "Python 3",
   "language": "python",
   "name": "python3"
  },
  "language_info": {
   "codemirror_mode": {
    "name": "ipython",
    "version": 3
   },
   "file_extension": ".py",
   "mimetype": "text/x-python",
   "name": "python",
   "nbconvert_exporter": "python",
   "pygments_lexer": "ipython3",
   "version": "3.10.1"
  },
  "orig_nbformat": 4,
  "vscode": {
   "interpreter": {
    "hash": "369f2c481f4da34e4445cda3fffd2e751bd1c4d706f27375911949ba6bb62e1c"
   }
  }
 },
 "nbformat": 4,
 "nbformat_minor": 2
}
