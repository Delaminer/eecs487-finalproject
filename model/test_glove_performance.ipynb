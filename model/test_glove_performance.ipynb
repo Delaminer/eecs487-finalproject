{
 "cells": [
  {
   "cell_type": "code",
   "execution_count": 1,
   "metadata": {},
   "outputs": [
    {
     "name": "stderr",
     "output_type": "stream",
     "text": [
      "[nltk_data] Downloading package punkt to /home/alex/nltk_data...\n",
      "[nltk_data]   Package punkt is already up-to-date!\n",
      "[nltk_data] Downloading package stopwords to /home/alex/nltk_data...\n",
      "[nltk_data]   Package stopwords is already up-to-date!\n",
      "[nltk_data] Downloading package wordnet to /home/alex/nltk_data...\n",
      "[nltk_data]   Package wordnet is already up-to-date!\n",
      "[nltk_data] Downloading package averaged_perceptron_tagger to\n",
      "[nltk_data]     /home/alex/nltk_data...\n",
      "[nltk_data]   Package averaged_perceptron_tagger is already up-to-\n",
      "[nltk_data]       date!\n"
     ]
    }
   ],
   "source": [
    "%load_ext autoreload\n",
    "%autoreload 2\n",
    "from glove_model import GloveDataset"
   ]
  },
  {
   "cell_type": "code",
   "execution_count": 12,
   "metadata": {},
   "outputs": [
    {
     "name": "stderr",
     "output_type": "stream",
     "text": [
      "[nltk_data] Downloading package punkt to /home/alex/nltk_data...\n",
      "[nltk_data]   Package punkt is already up-to-date!\n",
      "[nltk_data] Downloading package stopwords to /home/alex/nltk_data...\n",
      "[nltk_data]   Package stopwords is already up-to-date!\n",
      "[nltk_data] Downloading package wordnet to /home/alex/nltk_data...\n",
      "[nltk_data]   Package wordnet is already up-to-date!\n",
      "[nltk_data] Downloading package averaged_perceptron_tagger to\n",
      "[nltk_data]     /home/alex/nltk_data...\n",
      "[nltk_data]   Package averaged_perceptron_tagger is already up-to-\n",
      "[nltk_data]       date!\n"
     ]
    },
    {
     "name": "stdout",
     "output_type": "stream",
     "text": [
      "Adding (200,)\n",
      "From 28570, (200,)\n",
      "Resulting in (28570, 200)\n"
     ]
    }
   ],
   "source": [
    "dataset = GloveDataset(lemmatize=False)"
   ]
  },
  {
   "cell_type": "code",
   "execution_count": 13,
   "metadata": {},
   "outputs": [
    {
     "data": {
      "text/plain": [
       "(28570, 200)"
      ]
     },
     "execution_count": 13,
     "metadata": {},
     "output_type": "execute_result"
    }
   ],
   "source": [
    "dataset.matrix.shape"
   ]
  },
  {
   "cell_type": "code",
   "execution_count": 14,
   "metadata": {},
   "outputs": [
    {
     "name": "stdout",
     "output_type": "stream",
     "text": [
      "Claculating similarities, this should take ~20 seconds\n",
      "Starting rank testing\n",
      "172/17237, 0%\n",
      "344/17237, 1%\n",
      "516/17237, 2%\n",
      "688/17237, 3%\n",
      "860/17237, 4%\n",
      "1032/17237, 5%\n",
      "1204/17237, 6%\n",
      "1376/17237, 7%\n",
      "1548/17237, 8%\n",
      "1720/17237, 9%\n",
      "1892/17237, 10%\n",
      "2064/17237, 11%\n",
      "2236/17237, 12%\n",
      "2408/17237, 13%\n",
      "2580/17237, 14%\n",
      "2752/17237, 15%\n",
      "2924/17237, 16%\n",
      "3096/17237, 17%\n",
      "3268/17237, 18%\n",
      "3440/17237, 19%\n",
      "3612/17237, 20%\n",
      "3784/17237, 21%\n",
      "3956/17237, 22%\n",
      "4128/17237, 23%\n",
      "4300/17237, 24%\n",
      "4472/17237, 25%\n",
      "4644/17237, 26%\n",
      "4816/17237, 27%\n",
      "4988/17237, 28%\n",
      "5160/17237, 29%\n",
      "5332/17237, 30%\n",
      "5504/17237, 31%\n",
      "5676/17237, 32%\n",
      "5848/17237, 33%\n",
      "6020/17237, 34%\n",
      "6192/17237, 35%\n",
      "6364/17237, 36%\n",
      "6536/17237, 37%\n",
      "6708/17237, 38%\n",
      "6880/17237, 39%\n",
      "7052/17237, 40%\n",
      "7224/17237, 41%\n",
      "7396/17237, 42%\n",
      "7568/17237, 43%\n",
      "7740/17237, 44%\n",
      "7912/17237, 45%\n",
      "8084/17237, 46%\n",
      "8256/17237, 47%\n",
      "8428/17237, 48%\n",
      "8600/17237, 49%\n",
      "8772/17237, 50%\n",
      "8944/17237, 51%\n",
      "9116/17237, 52%\n",
      "9288/17237, 53%\n",
      "9460/17237, 54%\n",
      "9632/17237, 55%\n",
      "9804/17237, 56%\n",
      "9976/17237, 57%\n",
      "10148/17237, 58%\n",
      "10320/17237, 59%\n",
      "10492/17237, 60%\n",
      "10664/17237, 61%\n",
      "10836/17237, 62%\n",
      "11008/17237, 63%\n",
      "11180/17237, 64%\n",
      "11352/17237, 65%\n",
      "11524/17237, 66%\n",
      "11696/17237, 67%\n",
      "11868/17237, 68%\n",
      "12040/17237, 69%\n",
      "12212/17237, 70%\n",
      "12384/17237, 71%\n",
      "12556/17237, 72%\n",
      "12728/17237, 73%\n",
      "12900/17237, 74%\n",
      "13072/17237, 75%\n",
      "13244/17237, 76%\n",
      "13416/17237, 77%\n",
      "13588/17237, 78%\n",
      "13760/17237, 79%\n",
      "13932/17237, 80%\n",
      "14104/17237, 81%\n",
      "14276/17237, 82%\n",
      "14448/17237, 83%\n",
      "14620/17237, 84%\n",
      "14792/17237, 85%\n",
      "14964/17237, 86%\n",
      "15136/17237, 87%\n",
      "15308/17237, 88%\n",
      "15480/17237, 89%\n",
      "15652/17237, 90%\n",
      "15824/17237, 91%\n",
      "15996/17237, 92%\n",
      "16168/17237, 93%\n",
      "16340/17237, 94%\n",
      "16512/17237, 95%\n",
      "16684/17237, 96%\n",
      "16856/17237, 97%\n",
      "17028/17237, 98%\n",
      "17200/17237, 99%\n",
      "Training: For 17237 entries, MRR = 0.05579378507629812, Acc = 0.03237222254452631\n"
     ]
    }
   ],
   "source": [
    "# Get the MRR and accuracy\n",
    "from sklearn.metrics.pairwise import cosine_similarity\n",
    "matrix = dataset.matrix\n",
    "import math\n",
    "def c_to_d(c):\n",
    "    return dataset.corpus_to_id[c]\n",
    "\n",
    "def d_to_c(d):\n",
    "    return dataset.id_to_corpus[d]\n",
    "\n",
    "\n",
    "\n",
    "mrr = 0.0\n",
    "num_correct = 0\n",
    "used = 0\n",
    "n = 0\n",
    "print(\"Claculating similarities, this should take ~20 seconds\")\n",
    "cos_similarities_matrix = cosine_similarity(matrix, matrix)\n",
    "print(\"Starting rank testing\")\n",
    "for this_doc_id in dataset.duplicate.keys():\n",
    "    this_corpus_id = d_to_c(this_doc_id)\n",
    "\n",
    "    duplicates = dataset.duplicate[this_doc_id]\n",
    "\n",
    "    # This doc_id has some duplicates\n",
    "    # cos_similarities = cosine_similarity(matrix[this_corpus_id].reshape(1, -1), matrix)\n",
    "    cos_similarities = cos_similarities_matrix[this_corpus_id]\n",
    "    similar_corpus_indices = cos_similarities.argsort()[::-1]\n",
    "\n",
    "    # Get the rank of the closest duplicate\n",
    "    rank = -1\n",
    "    similar_doc_index = -1\n",
    "    for rank, similar_corpus_index in enumerate(similar_corpus_indices):\n",
    "        similar_doc_index = c_to_d(similar_corpus_index)\n",
    "        if similar_doc_index in duplicates or rank > 100:\n",
    "            break\n",
    "\n",
    "    # Note: normally, the top document (rank=0) is the question asked, and then duplicates follow, \n",
    "    # but sometimes the duplicate can take rank 0. If that's so, just account for that here:\n",
    "    if rank == 0:\n",
    "        rank = 1\n",
    "\n",
    "    if rank == 1:\n",
    "        num_correct += 1\n",
    "    mrr += 1.0 / rank\n",
    "    n += 1\n",
    "    if n % (math.floor(len(dataset.duplicate.keys()) / 100)) == 0:\n",
    "        print(f\"{n}/{len(dataset.duplicate.keys())}, {math.floor(100 * n / len(dataset.duplicate.keys()))}%\")\n",
    "# n = len(special_dataloader.duplicate.keys())\n",
    "mrr /= n\n",
    "acc = num_correct / n\n",
    "print(f\"Training: For {n} entries, MRR = {mrr}, Acc = {acc}\")"
   ]
  }
 ],
 "metadata": {
  "kernelspec": {
   "display_name": ".venv",
   "language": "python",
   "name": "python3"
  },
  "language_info": {
   "codemirror_mode": {
    "name": "ipython",
    "version": 3
   },
   "file_extension": ".py",
   "mimetype": "text/x-python",
   "name": "python",
   "nbconvert_exporter": "python",
   "pygments_lexer": "ipython3",
   "version": "3.10.6"
  },
  "orig_nbformat": 4
 },
 "nbformat": 4,
 "nbformat_minor": 2
}
