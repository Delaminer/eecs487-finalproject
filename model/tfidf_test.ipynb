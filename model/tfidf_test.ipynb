{
 "cells": [
  {
   "cell_type": "code",
   "execution_count": 1,
   "metadata": {},
   "outputs": [
    {
     "name": "stdout",
     "output_type": "stream",
     "text": [
      "['/home/alex/class/eecs487/eecs487-finalproject/model', '/usr/lib/python310.zip', '/usr/lib/python3.10', '/usr/lib/python3.10/lib-dynload', '', '/home/alex/class/eecs487/eecs487-finalproject/.venv/lib/python3.10/site-packages', '..']\n"
     ]
    },
    {
     "name": "stderr",
     "output_type": "stream",
     "text": [
      "2023-04-07 02:15:24.102538: I tensorflow/core/util/port.cc:110] oneDNN custom operations are on. You may see slightly different numerical results due to floating-point round-off errors from different computation orders. To turn them off, set the environment variable `TF_ENABLE_ONEDNN_OPTS=0`.\n",
      "2023-04-07 02:15:24.190259: I tensorflow/core/platform/cpu_feature_guard.cc:182] This TensorFlow binary is optimized to use available CPU instructions in performance-critical operations.\n",
      "To enable the following instructions: AVX2 AVX512F AVX512_VNNI FMA, in other operations, rebuild TensorFlow with the appropriate compiler flags.\n",
      "2023-04-07 02:15:25.190469: W tensorflow/compiler/tf2tensorrt/utils/py_utils.cc:38] TF-TRT Warning: Could not find TensorRT\n",
      "2023-04-07 02:15:27.230242: I tensorflow/core/common_runtime/executor.cc:1197] [/device:CPU:0] (DEBUG INFO) Executor start aborting (this does not indicate an error and you can ignore this message): INVALID_ARGUMENT: You must feed a value for placeholder tensor 'seq_length' with dtype int32\n",
      "\t [[{{node seq_length}}]]\n",
      "2023-04-07 02:15:27.230690: I tensorflow/core/common_runtime/executor.cc:1197] [/device:CPU:0] (DEBUG INFO) Executor start aborting (this does not indicate an error and you can ignore this message): INVALID_ARGUMENT: You must feed a value for placeholder tensor 'seq_length' with dtype int32\n",
      "\t [[{{node seq_length}}]]\n",
      "2023-04-07 02:15:27.230785: I tensorflow/core/common_runtime/executor.cc:1197] [/device:CPU:0] (DEBUG INFO) Executor start aborting (this does not indicate an error and you can ignore this message): INVALID_ARGUMENT: You must feed a value for placeholder tensor 'seq_length' with dtype int32\n",
      "\t [[{{node seq_length}}]]\n",
      "2023-04-07 02:15:27.231105: I tensorflow/core/common_runtime/executor.cc:1197] [/device:CPU:0] (DEBUG INFO) Executor start aborting (this does not indicate an error and you can ignore this message): INVALID_ARGUMENT: You must feed a value for placeholder tensor 'seq_length' with dtype int32\n",
      "\t [[{{node seq_length}}]]\n",
      "2023-04-07 02:15:27.231230: I tensorflow/core/common_runtime/executor.cc:1197] [/device:CPU:0] (DEBUG INFO) Executor start aborting (this does not indicate an error and you can ignore this message): INVALID_ARGUMENT: You must feed a value for placeholder tensor 'seq_length' with dtype int32\n",
      "\t [[{{node seq_length}}]]\n",
      "2023-04-07 02:15:27.231290: I tensorflow/core/common_runtime/executor.cc:1197] [/device:CPU:0] (DEBUG INFO) Executor start aborting (this does not indicate an error and you can ignore this message): INVALID_ARGUMENT: You must feed a value for placeholder tensor 'seq_length' with dtype int32\n",
      "\t [[{{node seq_length}}]]\n",
      "2023-04-07 02:15:27.231345: I tensorflow/core/common_runtime/executor.cc:1197] [/device:CPU:0] (DEBUG INFO) Executor start aborting (this does not indicate an error and you can ignore this message): INVALID_ARGUMENT: You must feed a value for placeholder tensor 'seq_length' with dtype int32\n",
      "\t [[{{node seq_length}}]]\n",
      "2023-04-07 02:15:27.297605: I tensorflow/core/common_runtime/executor.cc:1197] [/device:CPU:0] (DEBUG INFO) Executor start aborting (this does not indicate an error and you can ignore this message): INVALID_ARGUMENT: You must feed a value for placeholder tensor 'seq_length' with dtype int32\n",
      "\t [[{{node seq_length}}]]\n",
      "2023-04-07 02:15:27.298171: I tensorflow/core/common_runtime/executor.cc:1197] [/device:CPU:0] (DEBUG INFO) Executor start aborting (this does not indicate an error and you can ignore this message): INVALID_ARGUMENT: You must feed a value for placeholder tensor 'seq_length' with dtype int32\n",
      "\t [[{{node seq_length}}]]\n",
      "2023-04-07 02:15:27.298271: I tensorflow/core/common_runtime/executor.cc:1197] [/device:CPU:0] (DEBUG INFO) Executor start aborting (this does not indicate an error and you can ignore this message): INVALID_ARGUMENT: You must feed a value for placeholder tensor 'seq_length' with dtype int32\n",
      "\t [[{{node seq_length}}]]\n",
      "2023-04-07 02:15:27.298697: I tensorflow/core/common_runtime/executor.cc:1197] [/device:CPU:0] (DEBUG INFO) Executor start aborting (this does not indicate an error and you can ignore this message): INVALID_ARGUMENT: You must feed a value for placeholder tensor 'seq_length' with dtype int32\n",
      "\t [[{{node seq_length}}]]\n",
      "2023-04-07 02:15:27.298822: I tensorflow/core/common_runtime/executor.cc:1197] [/device:CPU:0] (DEBUG INFO) Executor start aborting (this does not indicate an error and you can ignore this message): INVALID_ARGUMENT: You must feed a value for placeholder tensor 'seq_length' with dtype int32\n",
      "\t [[{{node seq_length}}]]\n",
      "2023-04-07 02:15:27.298881: I tensorflow/core/common_runtime/executor.cc:1197] [/device:CPU:0] (DEBUG INFO) Executor start aborting (this does not indicate an error and you can ignore this message): INVALID_ARGUMENT: You must feed a value for placeholder tensor 'seq_length' with dtype int32\n",
      "\t [[{{node seq_length}}]]\n",
      "2023-04-07 02:15:27.298943: I tensorflow/core/common_runtime/executor.cc:1197] [/device:CPU:0] (DEBUG INFO) Executor start aborting (this does not indicate an error and you can ignore this message): INVALID_ARGUMENT: You must feed a value for placeholder tensor 'seq_length' with dtype int32\n",
      "\t [[{{node seq_length}}]]\n",
      "2023-04-07 02:15:27.373486: I tensorflow/core/common_runtime/executor.cc:1197] [/device:CPU:0] (DEBUG INFO) Executor start aborting (this does not indicate an error and you can ignore this message): INVALID_ARGUMENT: You must feed a value for placeholder tensor 'seq_length' with dtype int32\n",
      "\t [[{{node seq_length}}]]\n",
      "2023-04-07 02:15:27.373922: I tensorflow/core/common_runtime/executor.cc:1197] [/device:CPU:0] (DEBUG INFO) Executor start aborting (this does not indicate an error and you can ignore this message): INVALID_ARGUMENT: You must feed a value for placeholder tensor 'seq_length' with dtype int32\n",
      "\t [[{{node seq_length}}]]\n",
      "2023-04-07 02:15:27.374017: I tensorflow/core/common_runtime/executor.cc:1197] [/device:CPU:0] (DEBUG INFO) Executor start aborting (this does not indicate an error and you can ignore this message): INVALID_ARGUMENT: You must feed a value for placeholder tensor 'seq_length' with dtype int32\n",
      "\t [[{{node seq_length}}]]\n",
      "2023-04-07 02:15:27.374333: I tensorflow/core/common_runtime/executor.cc:1197] [/device:CPU:0] (DEBUG INFO) Executor start aborting (this does not indicate an error and you can ignore this message): INVALID_ARGUMENT: You must feed a value for placeholder tensor 'seq_length' with dtype int32\n",
      "\t [[{{node seq_length}}]]\n",
      "2023-04-07 02:15:27.374584: I tensorflow/core/common_runtime/executor.cc:1197] [/device:CPU:0] (DEBUG INFO) Executor start aborting (this does not indicate an error and you can ignore this message): INVALID_ARGUMENT: You must feed a value for placeholder tensor 'seq_length' with dtype int32\n",
      "\t [[{{node seq_length}}]]\n",
      "2023-04-07 02:15:27.374757: I tensorflow/core/common_runtime/executor.cc:1197] [/device:CPU:0] (DEBUG INFO) Executor start aborting (this does not indicate an error and you can ignore this message): INVALID_ARGUMENT: You must feed a value for placeholder tensor 'seq_length' with dtype int32\n",
      "\t [[{{node seq_length}}]]\n",
      "2023-04-07 02:15:27.374867: I tensorflow/core/common_runtime/executor.cc:1197] [/device:CPU:0] (DEBUG INFO) Executor start aborting (this does not indicate an error and you can ignore this message): INVALID_ARGUMENT: You must feed a value for placeholder tensor 'seq_length' with dtype int32\n",
      "\t [[{{node seq_length}}]]\n",
      "2023-04-07 02:15:27.540668: I tensorflow/core/common_runtime/executor.cc:1197] [/device:CPU:0] (DEBUG INFO) Executor start aborting (this does not indicate an error and you can ignore this message): INVALID_ARGUMENT: You must feed a value for placeholder tensor 'seq_length' with dtype int32\n",
      "\t [[{{node seq_length}}]]\n",
      "2023-04-07 02:15:27.541397: I tensorflow/core/common_runtime/executor.cc:1197] [/device:CPU:0] (DEBUG INFO) Executor start aborting (this does not indicate an error and you can ignore this message): INVALID_ARGUMENT: You must feed a value for placeholder tensor 'seq_length' with dtype int32\n",
      "\t [[{{node seq_length}}]]\n",
      "2023-04-07 02:15:27.541589: I tensorflow/core/common_runtime/executor.cc:1197] [/device:CPU:0] (DEBUG INFO) Executor start aborting (this does not indicate an error and you can ignore this message): INVALID_ARGUMENT: You must feed a value for placeholder tensor 'seq_length' with dtype int32\n",
      "\t [[{{node seq_length}}]]\n",
      "2023-04-07 02:15:27.542709: I tensorflow/core/common_runtime/executor.cc:1197] [/device:CPU:0] (DEBUG INFO) Executor start aborting (this does not indicate an error and you can ignore this message): INVALID_ARGUMENT: You must feed a value for placeholder tensor 'seq_length' with dtype int32\n",
      "\t [[{{node seq_length}}]]\n",
      "2023-04-07 02:15:27.543092: I tensorflow/core/common_runtime/executor.cc:1197] [/device:CPU:0] (DEBUG INFO) Executor start aborting (this does not indicate an error and you can ignore this message): INVALID_ARGUMENT: You must feed a value for placeholder tensor 'seq_length' with dtype int32\n",
      "\t [[{{node seq_length}}]]\n",
      "2023-04-07 02:15:27.543212: I tensorflow/core/common_runtime/executor.cc:1197] [/device:CPU:0] (DEBUG INFO) Executor start aborting (this does not indicate an error and you can ignore this message): INVALID_ARGUMENT: You must feed a value for placeholder tensor 'seq_length' with dtype int32\n",
      "\t [[{{node seq_length}}]]\n",
      "2023-04-07 02:15:27.543295: I tensorflow/core/common_runtime/executor.cc:1197] [/device:CPU:0] (DEBUG INFO) Executor start aborting (this does not indicate an error and you can ignore this message): INVALID_ARGUMENT: You must feed a value for placeholder tensor 'seq_length' with dtype int32\n",
      "\t [[{{node seq_length}}]]\n"
     ]
    },
    {
     "name": "stdout",
     "output_type": "stream",
     "text": [
      "Performed tf-idf\n",
      "Special dataloader done processing.\n",
      "Keep in mind the data processed is in order, so you might want to shuffle them.\n"
     ]
    }
   ],
   "source": [
    "%load_ext autoreload\n",
    "%autoreload 2\n",
    "from sklearn.feature_extraction.text import TfidfVectorizer\n",
    "\n",
    "from sklearn.neighbors import NearestNeighbors \n",
    "from collections import defaultdict\n",
    "\n",
    "from model import SpecialDataLoader\n",
    "\n",
    "special_dataloader = SpecialDataLoader()\n",
    "# split the data into train, test, and validation \n",
    "from sklearn.model_selection import train_test_split\n",
    "\n",
    "# split train as 50%, val as 25%, test as 25% \n",
    "def get_training_splits(data):\n",
    "    X_train, X_test = train_test_split(\n",
    "        data.data, test_size = 0.25, random_state=487, shuffle=True \n",
    "    )\n",
    "\n",
    "    X_train, X_val = train_test_split(\n",
    "        X_train, test_size = 0.33, random_state=487, shuffle=True\n",
    "    )\n",
    "    return X_train, X_val, X_test\n",
    "\n",
    "# X_train, X_val, X_test = get_training_splits(data.data)\n",
    "\n",
    "special_X_train, special_X_val, special_X_test = get_training_splits(special_dataloader)\n"
   ]
  },
  {
   "cell_type": "code",
   "execution_count": 2,
   "metadata": {},
   "outputs": [
    {
     "data": {
      "text/plain": [
       "<1067x1918 sparse matrix of type '<class 'numpy.float64'>'\n",
       "\twith 8164 stored elements in Compressed Sparse Row format>"
      ]
     },
     "execution_count": 2,
     "metadata": {},
     "output_type": "execute_result"
    }
   ],
   "source": [
    "special_dataloader.matrix_X"
   ]
  },
  {
   "cell_type": "code",
   "execution_count": 3,
   "metadata": {},
   "outputs": [
    {
     "name": "stdout",
     "output_type": "stream",
     "text": [
      "1 When do I use \"can\" or \"could\"?\n",
      "4294 Correct usage of \"Could\" and \"Can\"\n"
     ]
    }
   ],
   "source": [
    "my_id = 1\n",
    "corpus_id = special_dataloader.id_to_corpus[my_id]\n",
    "print(my_id, special_dataloader.corpus[corpus_id])\n",
    "\n",
    "dup_id = special_dataloader.duplicate[my_id][0]\n",
    "print(dup_id,special_dataloader.corpus[special_dataloader.id_to_corpus[dup_id]])\n"
   ]
  },
  {
   "cell_type": "code",
   "execution_count": 4,
   "metadata": {},
   "outputs": [
    {
     "name": "stdout",
     "output_type": "stream",
     "text": [
      "[[0.         0.13175979 0.17395484 ... 0.0400099  0.         0.        ]]\n",
      "MY target of 4294 is rank 3 of 1067\n",
      "[ 68 228 101 ... 658 656   0]\n",
      "5902 When should we use \"can\", \"could\", \"will\", \"would\"?\n",
      "5552 When do I use \"me\" and when \"I\"?\n",
      "4294 Correct usage of \"Could\" and \"Can\"\n",
      "103676 Can \"the least I could do\" be negative?\n",
      "12458 How to use would or could in English?\n",
      "9249 \"Can\" vs. \"could\" in asking a question\n",
      "7414 Is either \"can\" or \"could\" more polite?\n",
      "9067 When to use -, – and —?\n",
      "5803 When to use \"to\" and when \"for\"?\n"
     ]
    }
   ],
   "source": [
    "# Find similar ones\n",
    "from sklearn.metrics.pairwise import cosine_similarity\n",
    "matrix = special_dataloader.matrix_X\n",
    "\n",
    "cos_similarities = cosine_similarity(matrix[special_dataloader.id_to_corpus[my_id]], matrix)\n",
    "print(cos_similarities)\n",
    "similar_doc_indices = cos_similarities.argsort()[0][::-1]\n",
    "def get_rank(corpus_id):\n",
    "    corpus_index = special_dataloader.id_to_corpus[corpus_id]\n",
    "    for rank, doc_index in enumerate(similar_doc_indices):\n",
    "        if doc_index == corpus_index:\n",
    "            return rank\n",
    "\n",
    "print(f\"MY target of {dup_id} is rank {get_rank(dup_id)} of {len(similar_doc_indices)}\")\n",
    "\n",
    "print(similar_doc_indices)\n",
    "for i in range(1, 10):\n",
    "    near_corpus_id = similar_doc_indices[i]\n",
    "    near_id = special_dataloader.corpus_to_id[similar_doc_indices[i]]\n",
    "    print(near_id, special_dataloader.corpus[near_corpus_id])"
   ]
  },
  {
   "cell_type": "code",
   "execution_count": 5,
   "metadata": {},
   "outputs": [
    {
     "name": "stdout",
     "output_type": "stream",
     "text": [
      "For 667 entries, MRR = 0.3345129603194839, Acc = 0.25487256371814093\n"
     ]
    }
   ],
   "source": [
    "# Get the MRR and accuracy\n",
    "mrr = 0.0\n",
    "num_correct = 0\n",
    "for doc_id in special_dataloader.duplicate.keys():\n",
    "    duplicates = special_dataloader.duplicate[doc_id]\n",
    "\n",
    "    # This doc_id has some duplicates\n",
    "    cos_similarities = cosine_similarity(matrix[special_dataloader.id_to_corpus[doc_id]], matrix)\n",
    "    similar_doc_indices = cos_similarities.argsort()[0][::-1]\n",
    "\n",
    "    # Get the rank of these\n",
    "    for rank, doc_index in enumerate(similar_doc_indices):\n",
    "        if special_dataloader.corpus_to_id[doc_index] in duplicates:\n",
    "            break\n",
    "    if rank == 1:\n",
    "        num_correct += 1\n",
    "    mrr += 1.0 / rank\n",
    "n = len(special_dataloader.duplicate.keys())\n",
    "mrr /= n\n",
    "acc = num_correct / n\n",
    "print(f\"For {n} entries, MRR = {mrr}, Acc = {acc}\")"
   ]
  }
 ],
 "metadata": {
  "kernelspec": {
   "display_name": ".venv",
   "language": "python",
   "name": "python3"
  },
  "language_info": {
   "codemirror_mode": {
    "name": "ipython",
    "version": 3
   },
   "file_extension": ".py",
   "mimetype": "text/x-python",
   "name": "python",
   "nbconvert_exporter": "python",
   "pygments_lexer": "ipython3",
   "version": "3.10.6"
  },
  "orig_nbformat": 4
 },
 "nbformat": 4,
 "nbformat_minor": 2
}
