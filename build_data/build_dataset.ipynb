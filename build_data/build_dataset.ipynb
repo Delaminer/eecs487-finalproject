{
 "cells": [
  {
   "cell_type": "code",
   "execution_count": 4,
   "metadata": {},
   "outputs": [],
   "source": [
    "\n",
    "dup_list = None\n",
    "nondup_list = None\n",
    "\n",
    "with open(\"../dataset/duplicates_english.txt\", \"r\") as f:\n",
    "    dup_list = f.read().splitlines()\n",
    "with open(\"../dataset/nonduplicates_english.txt\", \"r\") as f:\n",
    "    nondup_list = f.read().splitlines()\n"
   ]
  },
  {
   "cell_type": "code",
   "execution_count": 5,
   "metadata": {},
   "outputs": [],
   "source": [
    "import sys\n",
    "sys.path.append(\"..\") # need this to import form sibling directory \n",
    "from utils.preprocess_functions import *\n",
    "\n",
    "questions = get_question_dict_no_answer()\n",
    "# questions()"
   ]
  },
  {
   "cell_type": "code",
   "execution_count": 6,
   "metadata": {},
   "outputs": [],
   "source": [
    "# first do dups\n",
    "dup_title1 = []\n",
    "dup_body1 = []\n",
    "dup_id1 = []\n",
    "dup_title2 = []\n",
    "dup_body2 = []\n",
    "dup_id2 = []\n",
    "\n",
    "for dups in dup_list:\n",
    "    cur_pair = dups.split()\n",
    "    \n",
    "    q1 = int(cur_pair[0])\n",
    "    q2 = int(cur_pair[1])\n",
    "      \n",
    "    if q1 not in questions or q2 not in questions:\n",
    "        # one of the pair doesn't exist, we just continue\n",
    "        continue \n",
    "    \n",
    "    # get the first question\n",
    "    dup_id1.append(q1)\n",
    "    dup_title1.append(questions[q1][\"title\"])    \n",
    "    dup_body1.append(questions[q1][\"body\"]) \n",
    "    dup_id2.append(q2)\n",
    "    dup_title2.append(questions[q2][\"title\"])    \n",
    "    dup_body2.append(questions[q2][\"body\"])    \n",
    "    "
   ]
  },
  {
   "cell_type": "code",
   "execution_count": 7,
   "metadata": {},
   "outputs": [],
   "source": [
    "# then do non-dups\n",
    "non_dup_title1 = []\n",
    "non_dup_body1 = []\n",
    "non_dup_id1 = []\n",
    "non_dup_title2 = []\n",
    "non_dup_body2 = []\n",
    "non_dup_id2 = []\n",
    "\n",
    "# first do dups\n",
    "for nondups in nondup_list:\n",
    "    cur_pair = nondups.split()\n",
    "    q1 = int(cur_pair[0])\n",
    "    q2 = int(cur_pair[1])\n",
    "    if q1 not in questions or q2 not in questions:\n",
    "        # one of the pair doesn't exist, we just continue\n",
    "        continue \n",
    "    non_dup_id1.append(q1)\n",
    "    non_dup_title1.append(questions[q1][\"title\"])    \n",
    "    non_dup_body1.append(questions[q1][\"body\"]) \n",
    "    non_dup_id2.append(q2)\n",
    "    non_dup_title2.append(questions[q2][\"title\"])    \n",
    "    non_dup_body2.append(questions[q2][\"body\"])    "
   ]
  },
  {
   "cell_type": "code",
   "execution_count": 8,
   "metadata": {},
   "outputs": [
    {
     "name": "stdout",
     "output_type": "stream",
     "text": [
      "11854 11854 11854 11854\n",
      "11920 11920 11920 11920\n"
     ]
    }
   ],
   "source": [
    "print(len(dup_body1), len(dup_body2), len(dup_title1), len(dup_title2))\n",
    "print(len(non_dup_body1), len(non_dup_body2), len(non_dup_title1), len(non_dup_title2))\n"
   ]
  },
  {
   "cell_type": "code",
   "execution_count": 9,
   "metadata": {},
   "outputs": [],
   "source": [
    "# cell to write the csv\n",
    "import csv\n",
    "\n",
    "fields = [\"q1_title\", \"q1_body\", \"q1_id\", \"q2_title\", \"q2_body\", \"q2_id\", \"duplicate_label\"]\n",
    "\n",
    "with open(\"dataset.csv\", \"w\", encoding=\"utf-8\") as f:\n",
    "    csvwriter = csv.writer(f)\n",
    "    \n",
    "    csvwriter.writerow(fields)\n",
    "    dup_len = len(dup_title1)\n",
    "    non_dup_len = len(non_dup_title1)\n",
    "    # first do dups\n",
    "    for i in range(dup_len):\n",
    "        cur_entry = [dup_title1[i], dup_body1[i], dup_id1[i], dup_title2[i], dup_body2[i], dup_id2[i], \"1\"]\n",
    "        csvwriter.writerow(cur_entry)\n",
    "    \n",
    "    # then do nondups\n",
    "    for i in range(non_dup_len):\n",
    "        cur_entry = [non_dup_title1[i], non_dup_body1[i], non_dup_id1[i], non_dup_title2[i], non_dup_body2[i], non_dup_id2[i], \"0\"]\n",
    "        csvwriter.writerow(cur_entry)\n",
    "        \n",
    "    \n"
   ]
  },
  {
   "cell_type": "code",
   "execution_count": 3,
   "metadata": {},
   "outputs": [
    {
     "name": "stdout",
     "output_type": "stream",
     "text": [
      "0\n"
     ]
    },
    {
     "data": {
      "text/html": [
       "<div>\n",
       "<style scoped>\n",
       "    .dataframe tbody tr th:only-of-type {\n",
       "        vertical-align: middle;\n",
       "    }\n",
       "\n",
       "    .dataframe tbody tr th {\n",
       "        vertical-align: top;\n",
       "    }\n",
       "\n",
       "    .dataframe thead th {\n",
       "        text-align: right;\n",
       "    }\n",
       "</style>\n",
       "<table border=\"1\" class=\"dataframe\">\n",
       "  <thead>\n",
       "    <tr style=\"text-align: right;\">\n",
       "      <th></th>\n",
       "      <th>q1_title</th>\n",
       "      <th>q1_body</th>\n",
       "      <th>q1_id</th>\n",
       "      <th>q2_title</th>\n",
       "      <th>q2_body</th>\n",
       "      <th>q2_id</th>\n",
       "      <th>duplicate_label</th>\n",
       "    </tr>\n",
       "  </thead>\n",
       "  <tbody>\n",
       "  </tbody>\n",
       "</table>\n",
       "</div>"
      ],
      "text/plain": [
       "Empty DataFrame\n",
       "Columns: [q1_title, q1_body, q1_id, q2_title, q2_body, q2_id, duplicate_label]\n",
       "Index: []"
      ]
     },
     "execution_count": 3,
     "metadata": {},
     "output_type": "execute_result"
    }
   ],
   "source": [
    "# test reading\n",
    "import pandas\n",
    "\n",
    "# df = pandas.read_csv(\"dataset_subset4000.csv\")\n",
    "df = pandas.read_csv(\"dataset.csv\")\n",
    "print(df.shape[0])\n",
    "# df.head()\n",
    "# df.head()[\"q1_body\"]"
   ]
  },
  {
   "cell_type": "code",
   "execution_count": 8,
   "metadata": {},
   "outputs": [],
   "source": [
    "# Create just a subset \n",
    "import csv\n",
    "fields = [\"q1_title\", \"q1_body\", \"q1_id\", \"q2_title\", \"q2_body\", \"q2_id\", \"duplicate_label\"]\n",
    "with open(\"../dataset/dataset_subset400.csv\", \"w\", encoding=\"utf-8\") as f:\n",
    "    csvwriter = csv.writer(f)\n",
    "    \n",
    "    csvwriter.writerow(fields)\n",
    "    subset_len = 400\n",
    "    # first do dups\n",
    "    for i in range(subset_len):\n",
    "        cur_entry = [dup_title1[i], dup_body1[i], dup_id1[i], dup_title2[i], dup_body2[i], dup_id2[i], \"1\"]\n",
    "        csvwriter.writerow(cur_entry)\n",
    "    \n",
    "    # then do nondups\n",
    "    for i in range(subset_len):\n",
    "        cur_entry = [non_dup_title1[i], non_dup_body1[i], non_dup_id1[i], non_dup_title2[i], non_dup_body2[i], non_dup_id2[i], \"0\"]\n",
    "        csvwriter.writerow(cur_entry)"
   ]
  },
  {
   "cell_type": "code",
   "execution_count": null,
   "metadata": {},
   "outputs": [],
   "source": [
    "# cell to write the csv for question answer pairs\n",
    "answers = get_accepted_answers()\n",
    "\n",
    "question_answers = get_question_answer_pairs(questions, answers)\n",
    "\n",
    "fields = [\"qid\", \"ans_id\", \"ans_body\"]\n",
    "\n",
    "with open(\"question_answers.csv\", \"w\", encoding=\"utf-8\") as f:\n",
    "    csvwriter = csv.writer(f)\n",
    "    \n",
    "    csvwriter.writerow(fields)\n",
    "\n",
    "    # first do dups\n",
    "    for line in question_answers:\n",
    "        csvwriter.writerow(line)\n",
    "    "
   ]
  },
  {
   "cell_type": "code",
   "execution_count": null,
   "metadata": {},
   "outputs": [],
   "source": []
  }
 ],
 "metadata": {
  "kernelspec": {
   "display_name": "Python 3",
   "language": "python",
   "name": "python3"
  },
  "language_info": {
   "codemirror_mode": {
    "name": "ipython",
    "version": 3
   },
   "file_extension": ".py",
   "mimetype": "text/x-python",
   "name": "python",
   "nbconvert_exporter": "python",
   "pygments_lexer": "ipython3",
   "version": "3.10.1"
  },
  "orig_nbformat": 4,
  "vscode": {
   "interpreter": {
    "hash": "369f2c481f4da34e4445cda3fffd2e751bd1c4d706f27375911949ba6bb62e1c"
   }
  }
 },
 "nbformat": 4,
 "nbformat_minor": 2
}
