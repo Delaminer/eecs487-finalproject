{
 "cells": [
  {
   "cell_type": "code",
   "execution_count": 1,
   "metadata": {},
   "outputs": [
    {
     "name": "stderr",
     "output_type": "stream",
     "text": [
      "/Users/user/Documents/final-project-487/env/lib/python3.10/site-packages/tqdm/auto.py:21: TqdmWarning: IProgress not found. Please update jupyter and ipywidgets. See https://ipywidgets.readthedocs.io/en/stable/user_install.html\n",
      "  from .autonotebook import tqdm as notebook_tqdm\n"
     ]
    },
    {
     "name": "stdout",
     "output_type": "stream",
     "text": [
      "There are 8480 questions and 15906 answers\n"
     ]
    }
   ],
   "source": [
    "import numpy as np\n",
    "import torch\n",
    "import tensorflow_hub as tfh\n",
    "from xml.etree.ElementTree import ElementTree\n",
    "\n",
    "tree = ElementTree()\n",
    "tree.parse(\"data//Posts.xml\")\n",
    "root = tree.getroot()\n",
    "posts = root.iter(\"row\")\n",
    "\n",
    "questions = dict()\n",
    "answers = dict()\n",
    "# first preprocess the data and split them into questions and answers\n",
    "for post in posts:\n",
    "      if int(post.attrib[\"PostTypeId\"]) == 1:\n",
    "            if \"AnswerCount\" in post.attrib and int(post.attrib[\"AnswerCount\"]) > 0:\n",
    "                  # question\n",
    "                  this_question = {\n",
    "                        \"id\": post.attrib[\"Id\"],\n",
    "                        \"title\": post.attrib[\"Title\"],\n",
    "                        \"body\": post.attrib[\"Body\"],\n",
    "                        \"accepted\": post.attrib[\"AcceptedAnswerId\"] if \"AcceptedAnswerId\" in post.attrib else -1  \n",
    "                  }\n",
    "                  questions[post.attrib[\"Id\"]] = this_question\n",
    "      elif int(post.attrib[\"PostTypeId\"]) == 2:\n",
    "            # answer\n",
    "            this_answer = {\n",
    "                  \"id\": post.attrib[\"Id\"],\n",
    "                  \"question_id\": post.attrib[\"ParentId\"],\n",
    "                  \"body\": post.attrib[\"Body\"],\n",
    "            }\n",
    "            answers[post.attrib[\"Id\"]] = this_answer\n",
    "\n",
    "# print(questions)\n",
    "# print(answers)\n",
    "\n",
    "print(f\"There are {len(questions)} questions and {len(answers)} answers\")"
   ]
  },
  {
   "cell_type": "code",
   "execution_count": 2,
   "metadata": {},
   "outputs": [
    {
     "ename": "ModuleNotFoundError",
     "evalue": "No module named 'tensorflow_text'",
     "output_type": "error",
     "traceback": [
      "\u001b[0;31m---------------------------------------------------------------------------\u001b[0m",
      "\u001b[0;31mModuleNotFoundError\u001b[0m                       Traceback (most recent call last)",
      "Cell \u001b[0;32mIn[2], line 3\u001b[0m\n\u001b[1;32m      1\u001b[0m \u001b[39mimport\u001b[39;00m \u001b[39mtensorflow_hub\u001b[39;00m \u001b[39mas\u001b[39;00m \u001b[39mhub\u001b[39;00m\n\u001b[1;32m      2\u001b[0m \u001b[39mimport\u001b[39;00m \u001b[39mtensorflow\u001b[39;00m \u001b[39mas\u001b[39;00m \u001b[39mtf\u001b[39;00m\n\u001b[0;32m----> 3\u001b[0m \u001b[39mimport\u001b[39;00m \u001b[39mtensorflow_text\u001b[39;00m \u001b[39mas\u001b[39;00m \u001b[39mtext\u001b[39;00m\n\u001b[1;32m      5\u001b[0m \u001b[39m# Load the Preprocessor and Bert models, this is gonna take a while\u001b[39;00m\n\u001b[1;32m      6\u001b[0m BERT_URL \u001b[39m=\u001b[39m \u001b[39m\"\u001b[39m\u001b[39mhttps://tfhub.dev/tensorflow/bert_en_uncased_L-12_H-768_A-12/4\u001b[39m\u001b[39m\"\u001b[39m\n",
      "\u001b[0;31mModuleNotFoundError\u001b[0m: No module named 'tensorflow_text'"
     ]
    }
   ],
   "source": [
    "import tensorflow_hub as hub\n",
    "import tensorflow as tf\n",
    "import tensorflow_text as text\n",
    "\n",
    "# Load the Preprocessor and Bert models, this is gonna take a while\n",
    "BERT_URL = \"https://tfhub.dev/tensorflow/bert_en_uncased_L-12_H-768_A-12/4\"\n",
    "PREPROCESS_URL = \"https://tfhub.dev/tensorflow/bert_en_uncased_preprocess/3\"\n",
    "preprocessor = hub.KerasLayer(PREPROCESS_URL)\n",
    "# text_test = ['this is such an amazing movie!']\n",
    "# text_preprocessed = preprocessor(text_test)\n",
    "bert_model =  hub.KerasLayer(BERT_URL)\n"
   ]
  },
  {
   "cell_type": "code",
   "execution_count": null,
   "metadata": {},
   "outputs": [],
   "source": [
    "# Testing the embedding \n",
    "text_test = ['this is such an amazing movie!']\n",
    "text_preprocessed = preprocessor(text_test)\n",
    "bert_results = bert_model(text_preprocessed)\n",
    "\n",
    "print(f'Pooled Outputs Shape:{bert_results[\"pooled_output\"].shape}')\n",
    "print(f'Pooled Outputs Values:{bert_results[\"pooled_output\"][0, :12]}')\n",
    "print(f'Sequence Outputs Shape:{bert_results[\"sequence_output\"].shape}')\n",
    "print(f'Sequence Outputs Values:{bert_results[\"sequence_output\"][0, :12]}')"
   ]
  },
  {
   "cell_type": "code",
   "execution_count": null,
   "metadata": {},
   "outputs": [],
   "source": []
  }
 ],
 "metadata": {
  "kernelspec": {
   "display_name": "env",
   "language": "python",
   "name": "python3"
  },
  "language_info": {
   "codemirror_mode": {
    "name": "ipython",
    "version": 3
   },
   "file_extension": ".py",
   "mimetype": "text/x-python",
   "name": "python",
   "nbconvert_exporter": "python",
   "pygments_lexer": "ipython3",
   "version": "3.10.0"
  },
  "orig_nbformat": 4
 },
 "nbformat": 4,
 "nbformat_minor": 2
}
